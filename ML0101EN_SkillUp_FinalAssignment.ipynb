{
 "cells": [
  {
   "cell_type": "code",
   "execution_count": 13,
   "id": "bb839c2f-c4ef-4913-a47d-0d6a43e31370",
   "metadata": {},
   "outputs": [
    {
     "name": "stdout",
     "output_type": "stream",
     "text": [
      "Training and testing data split successfully.\n"
     ]
    }
   ],
   "source": [
    "import pandas as pd\n",
    "from sklearn.model_selection import train_test_split\n",
    "\n",
    "# Load the dataset\n",
    "file_path = 'rainfall_data.csv'\n",
    "rainfall_data = pd.read_csv(file_path, encoding='ISO-8859-1')\n",
    "\n",
    "# Select relevant columns for regression\n",
    "features = rainfall_data[['Minimum temperature (°C)', 'Maximum temperature (°C)', 'Rainfall (mm)']]\n",
    "target = rainfall_data['9am Temperature (°C)']  # Assume we want to predict 9am Temperature\n",
    "\n",
    "# Drop rows with missing values\n",
    "features = features.dropna()\n",
    "target = target.dropna()\n",
    "\n",
    "# Split the data\n",
    "X_train, X_test, y_train, y_test = train_test_split(features, target, test_size=0.2, random_state=42)\n",
    "\n",
    "print(\"Training and testing data split successfully.\")\n"
   ]
  },
  {
   "cell_type": "code",
   "execution_count": 15,
   "id": "a6c78830-bf77-46a0-8598-89bf4e6bfdd1",
   "metadata": {},
   "outputs": [
    {
     "name": "stdout",
     "output_type": "stream",
     "text": [
      "Linear Regression MSE: 2.0506722964850606, R^2: 0.7965210367038886\n"
     ]
    }
   ],
   "source": [
    "from sklearn.linear_model import LinearRegression\n",
    "from sklearn.metrics import mean_squared_error, r2_score\n",
    "\n",
    "# Initialize and train the model\n",
    "linear_regressor = LinearRegression()\n",
    "linear_regressor.fit(X_train, y_train)\n",
    "\n",
    "# Make predictions\n",
    "y_pred = linear_regressor.predict(X_test)\n",
    "\n",
    "# Calculate evaluation metrics\n",
    "mse = mean_squared_error(y_test, y_pred)\n",
    "r2 = r2_score(y_test, y_pred)\n",
    "\n",
    "print(f\"Linear Regression MSE: {mse}, R^2: {r2}\")\n"
   ]
  },
  {
   "cell_type": "code",
   "execution_count": 17,
   "id": "fe91a40f-eb5e-492c-a98f-746ca0e1d988",
   "metadata": {},
   "outputs": [
    {
     "name": "stdout",
     "output_type": "stream",
     "text": [
      "               Model  Mean Squared Error  R^2 Score\n",
      "0  Linear Regression            2.050672   0.796521\n"
     ]
    }
   ],
   "source": [
    "# Creating a final regression report\n",
    "regression_report = pd.DataFrame({\n",
    "    \"Model\": [\"Linear Regression\"],\n",
    "    \"Mean Squared Error\": [mse],\n",
    "    \"R^2 Score\": [r2]\n",
    "})\n",
    "\n",
    "print(regression_report)\n"
   ]
  },
  {
   "cell_type": "code",
   "execution_count": 19,
   "id": "e791b270-4da3-4cf2-96aa-ddefea11bb27",
   "metadata": {},
   "outputs": [
    {
     "name": "stdout",
     "output_type": "stream",
     "text": [
      "KNN Regression MSE: 2.4486666666666665, R^2: 0.757029850334886\n"
     ]
    }
   ],
   "source": [
    "from sklearn.neighbors import KNeighborsRegressor\n",
    "\n",
    "# Initialize and train the model\n",
    "knn_regressor = KNeighborsRegressor(n_neighbors=5)\n",
    "knn_regressor.fit(X_train, y_train)\n",
    "\n",
    "# Make predictions\n",
    "y_pred_knn = knn_regressor.predict(X_test)\n",
    "\n",
    "# Calculate evaluation metrics\n",
    "mse_knn = mean_squared_error(y_test, y_pred_knn)\n",
    "r2_knn = r2_score(y_test, y_pred_knn)\n",
    "\n",
    "print(f\"KNN Regression MSE: {mse_knn}, R^2: {r2_knn}\")\n"
   ]
  },
  {
   "cell_type": "code",
   "execution_count": 21,
   "id": "e06aaf85-9c78-42c5-8a0f-f1d8c6c046fe",
   "metadata": {},
   "outputs": [
    {
     "name": "stdout",
     "output_type": "stream",
     "text": [
      "Decision Tree Regression MSE: 1.1500000000000006, R^2: 0.8858906865852649\n"
     ]
    }
   ],
   "source": [
    "from sklearn.tree import DecisionTreeRegressor\n",
    "\n",
    "# Initialize and train the model\n",
    "tree_regressor = DecisionTreeRegressor(random_state=42)\n",
    "tree_regressor.fit(X_train, y_train)\n",
    "\n",
    "# Make predictions\n",
    "y_pred_tree = tree_regressor.predict(X_test)\n",
    "\n",
    "# Calculate evaluation metrics\n",
    "mse_tree = mean_squared_error(y_test, y_pred_tree)\n",
    "r2_tree = r2_score(y_test, y_pred_tree)\n",
    "\n",
    "print(f\"Decision Tree Regression MSE: {mse_tree}, R^2: {r2_tree}\")\n"
   ]
  },
  {
   "cell_type": "code",
   "execution_count": 23,
   "id": "f235352e-0f17-48ce-bea0-1b58b93d0c3a",
   "metadata": {},
   "outputs": [
    {
     "name": "stdout",
     "output_type": "stream",
     "text": [
      "Logistic Regression Accuracy: 0.8333333333333334\n"
     ]
    }
   ],
   "source": [
    "from sklearn.linear_model import LogisticRegression\n",
    "\n",
    "# Convert target variable to binary (classification task)\n",
    "binary_target = (target > target.mean()).astype(int)\n",
    "\n",
    "# Split the data\n",
    "X_train, X_test, y_train_bin, y_test_bin = train_test_split(features, binary_target, test_size=0.2, random_state=42)\n",
    "\n",
    "# Initialize and train the model\n",
    "logistic_regressor = LogisticRegression(max_iter=1000)\n",
    "logistic_regressor.fit(X_train, y_train_bin)\n",
    "\n",
    "# Make predictions\n",
    "y_pred_logistic = logistic_regressor.predict(X_test)\n",
    "\n",
    "# Calculate evaluation metrics\n",
    "accuracy = logistic_regressor.score(X_test, y_test_bin)\n",
    "\n",
    "print(f\"Logistic Regression Accuracy: {accuracy}\")\n"
   ]
  },
  {
   "cell_type": "code",
   "execution_count": 25,
   "id": "85332d33-64f3-4a16-ac85-d508a85c50cd",
   "metadata": {},
   "outputs": [
    {
     "name": "stdout",
     "output_type": "stream",
     "text": [
      "SVM Regression MSE: 4.676888468856471, R^2: 0.5359334503491278\n"
     ]
    }
   ],
   "source": [
    "from sklearn.svm import SVR\n",
    "\n",
    "# Initialize and train the model\n",
    "svm_regressor = SVR()\n",
    "svm_regressor.fit(X_train, y_train)\n",
    "\n",
    "# Make predictions\n",
    "y_pred_svm = svm_regressor.predict(X_test)\n",
    "\n",
    "# Calculate evaluation metrics\n",
    "mse_svm = mean_squared_error(y_test, y_pred_svm)\n",
    "r2_svm = r2_score(y_test, y_pred_svm)\n",
    "\n",
    "print(f\"SVM Regression MSE: {mse_svm}, R^2: {r2_svm}\")\n"
   ]
  },
  {
   "cell_type": "code",
   "execution_count": 27,
   "id": "2b0d8513-b124-467a-8a5f-5ef4f4eace08",
   "metadata": {},
   "outputs": [
    {
     "name": "stdout",
     "output_type": "stream",
     "text": [
      "              precision    recall  f1-score   support\n",
      "\n",
      "  Below Mean       0.80      1.00      0.89         4\n",
      "  Above Mean       1.00      0.50      0.67         2\n",
      "\n",
      "    accuracy                           0.83         6\n",
      "   macro avg       0.90      0.75      0.78         6\n",
      "weighted avg       0.87      0.83      0.81         6\n",
      "\n"
     ]
    }
   ],
   "source": [
    "from sklearn.metrics import classification_report\n",
    "\n",
    "# Creating a final classification report\n",
    "class_report = classification_report(y_test_bin, y_pred_logistic, target_names=['Below Mean', 'Above Mean'])\n",
    "\n",
    "print(class_report)\n"
   ]
  }
 ],
 "metadata": {
  "kernelspec": {
   "display_name": "Python 3 (ipykernel)",
   "language": "python",
   "name": "python3"
  },
  "language_info": {
   "codemirror_mode": {
    "name": "ipython",
    "version": 3
   },
   "file_extension": ".py",
   "mimetype": "text/x-python",
   "name": "python",
   "nbconvert_exporter": "python",
   "pygments_lexer": "ipython3",
   "version": "3.11.7"
  }
 },
 "nbformat": 4,
 "nbformat_minor": 5
}
